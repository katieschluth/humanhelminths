{
 "cells": [
  {
   "cell_type": "code",
   "execution_count": 2,
   "metadata": {},
   "outputs": [],
   "source": [
    "import pandas as pd\n",
    "data = pd.read_excel(r'/Users/catherineschluth/bansallab/humanhelminths/lit review master COMBINED.xlsx')"
   ]
  },
  {
   "cell_type": "code",
   "execution_count": 4,
   "metadata": {},
   "outputs": [
    {
     "name": "stdout",
     "output_type": "stream",
     "text": [
      "col_0  count\n",
      "Year        \n",
      "1983       1\n",
      "1996       1\n",
      "1997       2\n",
      "2000       3\n",
      "2001       5\n",
      "2002       4\n",
      "2003       5\n",
      "2004       9\n",
      "2005       4\n",
      "2006       8\n",
      "2007       7\n",
      "2008      10\n",
      "2009      15\n",
      "2010      13\n",
      "2011      36\n",
      "2012      37\n",
      "2013      41\n",
      "2014      59\n",
      "2015      54\n",
      "2016      43\n",
      "2017      79\n",
      "2018      74\n",
      "2019      15\n"
     ]
    }
   ],
   "source": [
    "table = pd.crosstab(index = data['Year'], columns = 'count')\n",
    "print(table)"
   ]
  },
  {
   "cell_type": "code",
   "execution_count": 6,
   "metadata": {},
   "outputs": [
    {
     "data": {
      "image/png": "[encoded data removed]",
      "text/plain": [
       "<Figure size 432x288 with 1 Axes>"
      ]
     },
     "metadata": {
      "needs_background": "light"
     },
     "output_type": "display_data"
    }
   ],
   "source": [
    "import matplotlib.pyplot as plt\n",
    "years = data['Year']\n",
    "range = (1983, 2020)\n",
    "bins = 36\n",
    "plt.hist(years, bins, range, color = 'blue', histtype = 'bar', rwidth = 0.5)\n",
    "plt.xlabel('Year of study')\n",
    "plt.ylabel('Number of studies')\n",
    "plt.title('Number of studies in helminths lit review by year')\n",
    "plt.show()\n"
   ]
  },
  {
   "cell_type": "code",
   "execution_count": 7,
   "metadata": {},
   "outputs": [
    {
     "name": "stdout",
     "output_type": "stream",
     "text": [
      "col_0  count\n",
      "PAR         \n",
      "No       377\n",
      "Yes       78\n"
     ]
    }
   ],
   "source": [
    "#this only includes PMC because I haven't checked the PubMed studies yet, I also don't have access to a lot of them\n",
    "table_PAR = pd.crosstab(index = data['PAR'], columns = 'count')\n",
    "print(table_PAR)"
   ]
  },
  {
   "cell_type": "code",
   "execution_count": 8,
   "metadata": {},
   "outputs": [
    {
     "data": {
      "image/png": "[encoded data removed]",
      "text/plain": [
       "<Figure size 432x288 with 1 Axes>"
      ]
     },
     "metadata": {},
     "output_type": "display_data"
    }
   ],
   "source": [
    "PAR = ['Yes', 'No']\n",
    "slices = [81, 339]\n",
    "colors = ['g', 'r']\n",
    "plt.title('Does the study discuss population at risk?')\n",
    "plt.pie(slices, labels = PAR, colors = colors, startangle = 90, shadow = True, autopct = '%1.1f%%')\n",
    "plt.legend()\n",
    "plt.show()"
   ]
  },
  {
   "cell_type": "code",
   "execution_count": 10,
   "metadata": {
    "scrolled": true
   },
   "outputs": [
    {
     "name": "stdout",
     "output_type": "stream",
     "text": [
      "                        valid_name  number included in dataset\n",
      "0              Schistosoma mansoni                         101\n",
      "4             Wuchereria bancrofti                          86\n",
      "3          Schistosoma haematobium                          74\n",
      "5             Ascaris lumbricoides                          46\n",
      "8              Trichuris trichiura                          45\n",
      "6              Onchocerca volvulus                          41\n",
      "2            Schistosoma japonicum                          40\n",
      "7                Fasciola hepatica                          37\n",
      "9                          Loa loa                          22\n",
      "14                   Taenia solium                          18\n",
      "17     Echinococcus multilocularis                          14\n",
      "11             Dirofilaria immitis                          14\n",
      "13         Echinococcus granulosus                          10\n",
      "19          Opisthorchis viverrini                          10\n",
      "35              Dirofilaria repens                           8\n",
      "26                 Taenia saginata                           8\n",
      "10              Necator americanus                           7\n",
      "39          Dracunculus medinensis                           6\n",
      "40        Schistosoma intercalatum                           5\n",
      "24             Mansonella perstans                           5\n",
      "21              Fasciola gigantica                           5\n",
      "38             Schistosoma mekongi                           4\n",
      "1                    Brugia malayi                           4\n",
      "50                   Toxocara cati                           3\n",
      "12       Strongyloides stercoralis                           3\n",
      "15             Clonorchis sinensis                           3\n",
      "27     Angiostrongylus cantonensis                           3\n",
      "54          Schistosoma guineensis                           3\n",
      "31                Hymenolepis nana                           2\n",
      "37                 Taenia asiatica                           2\n",
      "..                             ...                         ...\n",
      "131        Gnathostoma binucleatum                           0\n",
      "132           Gnathostoma doloresi                           0\n",
      "133           Haplorchis yokogawai                           0\n",
      "134          Lagochilascaris minor                           0\n",
      "135            Metagonimus miyatai                           0\n",
      "136         Metagonimus takahashii                           0\n",
      "115             Haplorchis pumilio                           0\n",
      "114        Gastrodiscoides hominis                           0\n",
      "113        Fischoederius elongatus                           0\n",
      "112        Echinostoma cinetorchis                           0\n",
      "90       Heterobilharzia americana                           0\n",
      "91        Metastrongylus elongatus                           0\n",
      "92           Paragonimus miyazakii                           0\n",
      "95        Stellantchasmus falcatus                           0\n",
      "96       Strongyloides fuelleborni                           0\n",
      "97         Centrocestus formosanus                           0\n",
      "98         Clinostomum complanatum                           0\n",
      "99   Diphyllobothrium nihonkaiense                           0\n",
      "100       Hysterothylacium aduncum                           0\n",
      "101          Paragonimus africanus                           0\n",
      "102          Paragonimus mexicanus                           0\n",
      "103              Plagiorchis muris                           0\n",
      "104           Trichinella murrelli                           0\n",
      "105         Trichobilharzia franki                           0\n",
      "106        Trichobilharzia szidati                           0\n",
      "108    Austrobilharzia variglandis                           0\n",
      "109              Bertiella studeri                           0\n",
      "110            Dirofilaria striata                           0\n",
      "111     Echinoparyphium recurvatum                           0\n",
      "231    Trichostrongylus probolurus                           0\n",
      "\n",
      "[232 rows x 2 columns]\n"
     ]
    }
   ],
   "source": [
    "helminths = pd.read_excel(r'/Users/catherineschluth/bansallab/humanhelminths/cleaned lit review results.xlsx')\n",
    "helminths_counts = pd.DataFrame(helminths, columns = ['valid_name', 'number included in dataset'])\n",
    "chart = helminths_counts.sort_values(by = ['number included in dataset'], ascending = False)\n",
    "print(chart)"
   ]
  },
  {
   "cell_type": "code",
   "execution_count": null,
   "metadata": {},
   "outputs": [],
   "source": []
  },
  {
   "cell_type": "code",
   "execution_count": null,
   "metadata": {},
   "outputs": [],
   "source": []
  }
 ],
 "metadata": {
  "kernelspec": {
   "display_name": "Python 3",
   "language": "python",
   "name": "python3"
  },
  "language_info": {
   "codemirror_mode": {
    "name": "ipython",
    "version": 3
   },
   "file_extension": ".py",
   "mimetype": "text/x-python",
   "name": "python",
   "nbconvert_exporter": "python",
   "pygments_lexer": "ipython3",
   "version": "3.7.3"
  }
 },
 "nbformat": 4,
 "nbformat_minor": 2
}
